{
 "cells": [
  {
   "cell_type": "markdown",
   "id": "960617ad-3b48-42bc-b1eb-94149b355f0e",
   "metadata": {},
   "source": [
    "# Function Assignment"
   ]
  },
  {
   "cell_type": "markdown",
   "id": "f206ec27-60e0-4fb6-879d-e14168d51a43",
   "metadata": {},
   "source": [
    "## Ques 1"
   ]
  },
  {
   "cell_type": "markdown",
   "id": "11871ed3-9963-406d-9ce9-29cadbb1ed22",
   "metadata": {},
   "source": [
    "def keyword is used to create funtions"
   ]
  },
  {
   "cell_type": "code",
   "execution_count": 9,
   "id": "0c98991a-f347-411b-a93e-28a78bfb757c",
   "metadata": {},
   "outputs": [
    {
     "data": {
      "text/plain": [
       "[1, 3, 5, 7, 9, 11, 13, 15, 17, 19, 21, 23]"
      ]
     },
     "execution_count": 9,
     "metadata": {},
     "output_type": "execute_result"
    }
   ],
   "source": [
    "def odd_nums(num):\n",
    "    l = []\n",
    "    i = 1\n",
    "    while i < num:\n",
    "        l.append(i)\n",
    "        i+=2\n",
    "    return l\n",
    "odd_nums(25)"
   ]
  },
  {
   "cell_type": "markdown",
   "id": "61965531-8d71-46d3-8e49-8e7da52fc0cc",
   "metadata": {},
   "source": [
    "## Ques 2"
   ]
  },
  {
   "cell_type": "markdown",
   "id": "e437a49b-dfa1-42a1-aecf-d29fefa6b1a0",
   "metadata": {},
   "source": [
    "*args is used to pass the arguments when numbers or arguments are not known\n",
    "\n",
    "**kwargs is used to pass the arguments in key value pair and number of them is also not known"
   ]
  },
  {
   "cell_type": "code",
   "execution_count": 10,
   "id": "42cc608a-fa68-4bff-8e64-1c1bf8711993",
   "metadata": {},
   "outputs": [
    {
     "name": "stdout",
     "output_type": "stream",
     "text": [
      "<class 'int'>\n",
      "<class 'str'>\n",
      "<class 'list'>\n",
      "<class 'tuple'>\n",
      "<class 'set'>\n",
      "<class 'dict'>\n"
     ]
    }
   ],
   "source": [
    "def fun(*args):\n",
    "    for i in args:\n",
    "        print(type(i))\n",
    "\n",
    "fun(1,\"abc\",[1,\"abc\"],(1,2),{1},{1:\"a\",2:\"b\"})\n"
   ]
  },
  {
   "cell_type": "code",
   "execution_count": 11,
   "id": "e3a4412a-081f-4dc6-8938-839cac1ea24e",
   "metadata": {},
   "outputs": [
    {
     "name": "stdout",
     "output_type": "stream",
     "text": [
      "a : 1\n",
      "b : abc\n",
      "c : [1, 'abc']\n",
      "d : (1, 2)\n",
      "e : {1}\n",
      "f : {1: 'a', 2: 'b'}\n"
     ]
    }
   ],
   "source": [
    "def fun(**kwargs):\n",
    "    for item in kwargs:\n",
    "        print(item,\":\",kwargs[item])\n",
    "    # print(kwargs)\n",
    "fun(a=1,b=\"abc\",c=[1,\"abc\"],d=(1,2),e={1},f={1:\"a\",2:\"b\"})\n"
   ]
  },
  {
   "cell_type": "markdown",
   "id": "047ea87f-cbd5-43f3-83c4-93adc5d253eb",
   "metadata": {},
   "source": [
    "# Ques 3"
   ]
  },
  {
   "cell_type": "markdown",
   "id": "359b6c8a-95a6-4e46-89ae-2030d40138c0",
   "metadata": {},
   "source": [
    "An iterator is an object that contains a countable number of values. An iterator is an object that can be iterated upon, meaning that you can traverse through all the values.\n",
    "\n",
    "iter() -> method is used to initialize iterator\n"
   ]
  },
  {
   "cell_type": "markdown",
   "id": "a3ef7e1c-f781-468c-bafb-f88a8a4af8e8",
   "metadata": {},
   "source": [
    "next() -> method is used for iteration "
   ]
  },
  {
   "cell_type": "code",
   "execution_count": 13,
   "id": "b87de2cf-3fbf-41d0-bce8-520bb4feedb3",
   "metadata": {},
   "outputs": [
    {
     "name": "stdout",
     "output_type": "stream",
     "text": [
      "<list_iterator object at 0x7f9e54141c90>\n",
      "2\n",
      "4\n",
      "6\n",
      "8\n",
      "10\n"
     ]
    }
   ],
   "source": [
    "l =  [2, 4, 6, 8, 10, 12, 14, 16, \n",
    "18, 20]\n",
    "myiter = iter(l)\n",
    "print(myiter)\n",
    "for i in range (0,5):\n",
    "    print(next(myiter))\n"
   ]
  },
  {
   "cell_type": "markdown",
   "id": "0f1e6e59-7505-435e-8ddb-cf07ecac0f74",
   "metadata": {},
   "source": [
    "# Ques 4"
   ]
  },
  {
   "cell_type": "markdown",
   "id": "116602b8-9e82-41d6-9352-7aa6bb19b35e",
   "metadata": {},
   "source": [
    "Generator-Function: A generator-function is defined like a normal function, but whenever it needs to generate a value, it does so with the yield keyword rather than return. If the body of a def contains yield, the function automatically becomes a generator function. \n",
    "\n",
    "Generator-Object : Generator functions return a generator object. Generator objects are used either by calling the next method on the generator object or using the generator object in a “for in” loop \n",
    "\n",
    "Yield keyword : is used to create a generator function. A type of function that is memory efficient and can be used like an iterator object. The yield keyword will turn any expression that is given with it into a generator object and return it to the caller. Therefore, you must iterate over the generator object if you wish to obtain the values stored there."
   ]
  },
  {
   "cell_type": "code",
   "execution_count": 14,
   "id": "e25af4ea-288e-481a-a663-1774be84e131",
   "metadata": {},
   "outputs": [
    {
     "name": "stdout",
     "output_type": "stream",
     "text": [
      "0\n",
      "2\n",
      "4\n",
      "6\n",
      "8\n"
     ]
    }
   ],
   "source": [
    "# generator funtion\n",
    "def fun():\n",
    "    for i in range(0,10):\n",
    "        if i%2 == 0:\n",
    "            yield i\n",
    "    \n",
    "for i in fun():\n",
    "    print(i)"
   ]
  },
  {
   "cell_type": "markdown",
   "id": "c07b6487-6e47-409d-bbd7-48dc5a063b62",
   "metadata": {},
   "source": [
    "# Ques 5"
   ]
  },
  {
   "cell_type": "code",
   "execution_count": 15,
   "id": "660db70d-6cc9-437a-a8bd-a8a4eba8756a",
   "metadata": {},
   "outputs": [
    {
     "name": "stdout",
     "output_type": "stream",
     "text": [
      "2\n",
      "3\n",
      "5\n",
      "7\n",
      "11\n",
      "13\n",
      "17\n",
      "19\n",
      "23\n",
      "29\n",
      "31\n",
      "37\n",
      "41\n",
      "43\n",
      "47\n",
      "53\n",
      "59\n",
      "61\n",
      "67\n",
      "71\n"
     ]
    }
   ],
   "source": [
    "def isprime(num):\n",
    "    i = 2\n",
    "    while i * i <= num:\n",
    "        if (num % i == 0):\n",
    "            return False\n",
    "        i+=1\n",
    "    return True\n",
    "\n",
    "def prime():\n",
    "    for i in range(2,1000):\n",
    "        if(isprime(i)):\n",
    "            yield i\n",
    "            \n",
    "myiter = iter(prime())\n",
    "for i in range (0,20):\n",
    "    print(next(myiter))"
   ]
  },
  {
   "cell_type": "code",
   "execution_count": null,
   "id": "633e5bbf-dc1d-40e3-980d-94cc0cd30b98",
   "metadata": {},
   "outputs": [],
   "source": []
  }
 ],
 "metadata": {
  "kernelspec": {
   "display_name": "Python 3 (ipykernel)",
   "language": "python",
   "name": "python3"
  },
  "language_info": {
   "codemirror_mode": {
    "name": "ipython",
    "version": 3
   },
   "file_extension": ".py",
   "mimetype": "text/x-python",
   "name": "python",
   "nbconvert_exporter": "python",
   "pygments_lexer": "ipython3",
   "version": "3.10.8"
  }
 },
 "nbformat": 4,
 "nbformat_minor": 5
}
