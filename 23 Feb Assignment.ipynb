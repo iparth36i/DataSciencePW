{
 "cells": [
  {
   "cell_type": "markdown",
   "id": "203adcb8-fc0f-40bd-b1fb-b0a6a3e854a8",
   "metadata": {},
   "source": [
    "# Pandas Assignment\n"
   ]
  },
  {
   "cell_type": "markdown",
   "id": "9d526cfe-5be3-483d-b084-f84b543348fd",
   "metadata": {},
   "source": [
    "#### Ques 1"
   ]
  },
  {
   "cell_type": "code",
   "execution_count": 3,
   "id": "7107bf17-3f89-4728-9de2-1917ebbef4bd",
   "metadata": {},
   "outputs": [],
   "source": [
    "import pandas as pd\n",
    "series = pd.Series([4,8,15,16,23,42])"
   ]
  },
  {
   "cell_type": "code",
   "execution_count": 18,
   "id": "53fa5c0e-c236-49b9-9bc1-9ba8d2880f87",
   "metadata": {},
   "outputs": [
    {
     "name": "stdout",
     "output_type": "stream",
     "text": [
      "0     4\n",
      "1     8\n",
      "2    15\n",
      "3    16\n",
      "4    23\n",
      "5    42\n",
      "dtype: int64\n"
     ]
    }
   ],
   "source": [
    "print(series)"
   ]
  },
  {
   "cell_type": "code",
   "execution_count": 5,
   "id": "a20eb9c7-efaf-4e6e-90a3-93b86c580cd3",
   "metadata": {},
   "outputs": [
    {
     "data": {
      "text/plain": [
       "pandas.core.series.Series"
      ]
     },
     "execution_count": 5,
     "metadata": {},
     "output_type": "execute_result"
    }
   ],
   "source": [
    "type(series)"
   ]
  },
  {
   "cell_type": "markdown",
   "id": "d31c2c6d-2e7f-4524-be86-1bc182fd7d21",
   "metadata": {},
   "source": [
    "#### Ques 2"
   ]
  },
  {
   "cell_type": "code",
   "execution_count": 6,
   "id": "c1670325-e53e-410f-991e-faf8b4df45ee",
   "metadata": {},
   "outputs": [
    {
     "data": {
      "text/plain": [
       "0     1\n",
       "1     2\n",
       "2     3\n",
       "3     4\n",
       "4     5\n",
       "5     6\n",
       "6     7\n",
       "7     8\n",
       "8     9\n",
       "9    10\n",
       "dtype: int64"
      ]
     },
     "execution_count": 6,
     "metadata": {},
     "output_type": "execute_result"
    }
   ],
   "source": [
    "l = [1,2,3,4,5,6,7,8,9,10]\n",
    "s = pd.Series(l)\n",
    "s"
   ]
  },
  {
   "cell_type": "code",
   "execution_count": 7,
   "id": "bbc0aca3-faf7-417d-bca8-87a19d1117d6",
   "metadata": {},
   "outputs": [],
   "source": [
    "s[20]=None"
   ]
  },
  {
   "cell_type": "code",
   "execution_count": 8,
   "id": "3c92cee5-2f63-4e2c-825e-24a454ebf645",
   "metadata": {},
   "outputs": [
    {
     "name": "stdout",
     "output_type": "stream",
     "text": [
      "0     False\n",
      "1     False\n",
      "2     False\n",
      "3     False\n",
      "4     False\n",
      "5     False\n",
      "6     False\n",
      "7     False\n",
      "8     False\n",
      "9     False\n",
      "20     True\n",
      "dtype: bool\n"
     ]
    }
   ],
   "source": [
    "print(s.isnull())"
   ]
  },
  {
   "cell_type": "code",
   "execution_count": 9,
   "id": "8dc2c3a7-6cc8-4303-aff0-8258b7605fba",
   "metadata": {},
   "outputs": [
    {
     "data": {
      "text/plain": [
       "0      1.0\n",
       "1      2.0\n",
       "2      3.0\n",
       "3      4.0\n",
       "4      5.0\n",
       "5      6.0\n",
       "6      7.0\n",
       "7      8.0\n",
       "8      9.0\n",
       "9     10.0\n",
       "20    20.0\n",
       "dtype: float64"
      ]
     },
     "execution_count": 9,
     "metadata": {},
     "output_type": "execute_result"
    }
   ],
   "source": [
    "s.fillna(20)"
   ]
  },
  {
   "cell_type": "code",
   "execution_count": 10,
   "id": "3d414810-ab85-484f-a2ed-48e6530eb9fd",
   "metadata": {},
   "outputs": [],
   "source": [
    "s[2]=None"
   ]
  },
  {
   "cell_type": "code",
   "execution_count": 11,
   "id": "c6036b7a-451f-4539-bfb3-e6d48a3a32fd",
   "metadata": {},
   "outputs": [
    {
     "data": {
      "text/plain": [
       "0      1.0\n",
       "1      2.0\n",
       "2      NaN\n",
       "3      4.0\n",
       "4      5.0\n",
       "5      6.0\n",
       "6      7.0\n",
       "7      8.0\n",
       "8      9.0\n",
       "9     10.0\n",
       "20     NaN\n",
       "dtype: float64"
      ]
     },
     "execution_count": 11,
     "metadata": {},
     "output_type": "execute_result"
    }
   ],
   "source": [
    "s"
   ]
  },
  {
   "cell_type": "code",
   "execution_count": 12,
   "id": "7a47f14d-cd2b-403d-8991-7787400470f4",
   "metadata": {},
   "outputs": [
    {
     "data": {
      "text/plain": [
       "0     1.0\n",
       "1     2.0\n",
       "3     4.0\n",
       "4     5.0\n",
       "5     6.0\n",
       "6     7.0\n",
       "7     8.0\n",
       "8     9.0\n",
       "9    10.0\n",
       "dtype: float64"
      ]
     },
     "execution_count": 12,
     "metadata": {},
     "output_type": "execute_result"
    }
   ],
   "source": [
    "s.dropna()"
   ]
  },
  {
   "cell_type": "markdown",
   "id": "cc754f58-ac9d-4226-8616-8e4d6e13d2ea",
   "metadata": {},
   "source": [
    "#### Ques 3"
   ]
  },
  {
   "cell_type": "code",
   "execution_count": 13,
   "id": "a618743a-c869-4243-9621-129ee9f61a6d",
   "metadata": {},
   "outputs": [
    {
     "name": "stdout",
     "output_type": "stream",
     "text": [
      "     Name  age  Gender\n",
      "0   Alice   25  Female\n",
      "1     Bob   30    Male\n",
      "2  Claire   27  Female\n"
     ]
    }
   ],
   "source": [
    "df = pd.DataFrame({'Name' :['Alice','Bob','Claire'],'age':[25,30,27],'Gender':['Female','Male','Female']}, index:=None)\n",
    "print(df)"
   ]
  },
  {
   "cell_type": "markdown",
   "id": "9fd781ed-911c-431e-af55-7a69809af6bc",
   "metadata": {},
   "source": [
    "#### Ques 4"
   ]
  },
  {
   "cell_type": "markdown",
   "id": "57ffb7ae-86ee-4ca4-ab42-101b57a727b8",
   "metadata": {},
   "source": [
    "In Pandas, a DataFrame is a two-dimensional labeled data structure with columns of potentially different types. It is like a spreadsheet or SQL table, where rows represent observations and columns represent features.\n",
    "\n",
    "On the other hand, a pandas Series is a one-dimensional labeled array that can hold data of any type (integer, float, string, etc.) and has an associated label, called the index.\n",
    "\n",
    "The primary difference between the two is that a DataFrame can contain multiple columns of different data types, whereas a Series contains only one column of data."
   ]
  },
  {
   "cell_type": "code",
   "execution_count": 14,
   "id": "c2ac4927-2274-4d1d-ba0d-279e289ab5e1",
   "metadata": {},
   "outputs": [
    {
     "name": "stdout",
     "output_type": "stream",
     "text": [
      "DataFrame\n",
      "    Name  Age      City\n",
      "0   John   24  New York\n",
      "1   Sara   30    London\n",
      "2  David   28     Paris\n",
      "Series\n",
      "0    24\n",
      "1    30\n",
      "2    28\n",
      "Name: Age, dtype: int64\n"
     ]
    }
   ],
   "source": [
    "import pandas as pd\n",
    "data = {'Name': ['John', 'Sara', 'David'],\n",
    "        'Age': [24, 30, 28],\n",
    "        'City': ['New York', 'London', 'Paris']}\n",
    "df = pd.DataFrame(data)\n",
    "s = pd.Series([24, 30, 28], name='Age')\n",
    "print(\"DataFrame\")\n",
    "print(df)\n",
    "print(\"Series\")\n",
    "print(s)"
   ]
  },
  {
   "cell_type": "markdown",
   "id": "01c4c184-4163-4f85-94fc-517bc74c1a8f",
   "metadata": {},
   "source": [
    "#### Ques 5"
   ]
  },
  {
   "cell_type": "markdown",
   "id": "605befb0-bef2-44ef-bc50-b14bc90e6012",
   "metadata": {},
   "source": [
    "There are numerous functions available in Pandas that can be used to manipulate data in a DataFrame. Here are some common ones:\n",
    "\n",
    "head() and tail(): These functions are used to display the first or last n rows of a DataFrame. They are useful for quickly checking the data to make sure it was loaded correctly.\n",
    "\n"
   ]
  },
  {
   "cell_type": "code",
   "execution_count": 30,
   "id": "0295cbec-09d7-4893-ba2f-1bc6c4a0c9a1",
   "metadata": {},
   "outputs": [
    {
     "name": "stdout",
     "output_type": "stream",
     "text": [
      "   id  location_id  program_id accepted_payments alternate_name  \\\n",
      "0   1            1         NaN               NaN            NaN   \n",
      "1   2            2         NaN               NaN            NaN   \n",
      "2   3            3         NaN               NaN            NaN   \n",
      "3   4            4         NaN               NaN            NaN   \n",
      "4   5            5         NaN               NaN            NaN   \n",
      "\n",
      "                           application_process  \\\n",
      "0                   Walk in or apply by phone.   \n",
      "1           Apply by phone for an appointment.   \n",
      "2  Phone for information (403-4300 Ext. 4322).   \n",
      "3                              Apply by phone.   \n",
      "4                       Phone for information.   \n",
      "\n",
      "                                            audience  \\\n",
      "0  Older adults age 55 or over, ethnic minorities...   \n",
      "1       Residents of San Mateo County age 55 or over   \n",
      "2  Older adults age 55 or over who can benefit fr...   \n",
      "3  Parents, children, families with problems of c...   \n",
      "4  Low-income working families with children tran...   \n",
      "\n",
      "                                         description  \\\n",
      "0  A walk-in center for older adults that provide...   \n",
      "1  Provides training and job placement to eligibl...   \n",
      "2  Offers supportive counseling services to San M...   \n",
      "3  Provides supervised visitation services and a ...   \n",
      "4  Provides fixed 8% short term loans to eligible...   \n",
      "\n",
      "                                         eligibility email  ...  \\\n",
      "0  Age 55 or over for most programs, age 60 or ov...   NaN  ...   \n",
      "1  Age 55 or over, county resident and willing an...   NaN  ...   \n",
      "2        Resident of San Mateo County age 55 or over   NaN  ...   \n",
      "3                                               None   NaN  ...   \n",
      "4  Eligibility: Low-income family with legal cust...   NaN  ...   \n",
      "\n",
      "  interpretation_services                                           keywords  \\\n",
      "0                     NaN  ADULT PROTECTION AND CARE SERVICES, Meal Sites...   \n",
      "1                     NaN  EMPLOYMENT/TRAINING SERVICES, Job Development,...   \n",
      "2                     NaN  Geriatric Counseling, Older Adults, Gay, Lesbi...   \n",
      "3                     NaN  INDIVIDUAL AND FAMILY DEVELOPMENT SERVICES, Gr...   \n",
      "4                     NaN     COMMUNITY SERVICES, Speakers, Automobile Loans   \n",
      "\n",
      "  languages                               name required_documents  \\\n",
      "0       NaN    Fair Oaks Adult Activity Center                NaN   \n",
      "1       NaN   Second Career Employment Program                NaN   \n",
      "2       NaN             Senior Peer Counseling                NaN   \n",
      "3       NaN           Family Visitation Center                NaN   \n",
      "4       NaN  Economic Self-Sufficiency Program                NaN   \n",
      "\n",
      "      service_areas  status wait_time website taxonomy_ids  \n",
      "0             Colma  active  No wait.     NaN          NaN  \n",
      "1  San Mateo County  active   Varies.     NaN          NaN  \n",
      "2  San Mateo County  active   Varies.     NaN          NaN  \n",
      "3  San Mateo County  active  No wait.     NaN          NaN  \n",
      "4  San Mateo County  active       NaN     NaN          NaN  \n",
      "\n",
      "[5 rows x 22 columns]\n",
      "    id  location_id  program_id         accepted_payments  \\\n",
      "18  19           19         NaN                       NaN   \n",
      "19  20           20         NaN                       NaN   \n",
      "20  21           21         NaN                       NaN   \n",
      "21  22           22         NaN  Cash, Check, Credit Card   \n",
      "22  23           22         NaN                       NaN   \n",
      "\n",
      "           alternate_name                             application_process  \\\n",
      "18                    NaN  Call for screening appointment (650-347-3648).   \n",
      "19                    NaN                                        Walk in.   \n",
      "20                    NaN                 By phone during business hours.   \n",
      "21  Fotos para pasaportes               Walk in or apply by phone or mail   \n",
      "22                    NaN               Walk in or apply by phone or mail   \n",
      "\n",
      "                                             audience  \\\n",
      "18                                                NaN   \n",
      "19                                                NaN   \n",
      "20                                                NaN   \n",
      "21  Profit and nonprofit businesses, the public, m...   \n",
      "22  Second service and nonprofit businesses, the p...   \n",
      "\n",
      "                                          description  \\\n",
      "18  Provides free medical and dental care to those...   \n",
      "19              no unrequired fields for this service   \n",
      "20                                just a test service   \n",
      "21  [NOTE THIS IS NOT A REAL SERVICE--THIS IS FOR ...   \n",
      "22  [NOTE THIS IS NOT A REAL ORGANIZATION--THIS IS...   \n",
      "\n",
      "                                        eligibility                  email  \\\n",
      "18  Low-income person without access to health care                    NaN   \n",
      "19                                              NaN                    NaN   \n",
      "20                                              NaN                    NaN   \n",
      "21                                             None  passports@example.org   \n",
      "22                                             None                    NaN   \n",
      "\n",
      "    ...                            interpretation_services  \\\n",
      "18  ...                                                NaN   \n",
      "19  ...                                                NaN   \n",
      "20  ...                                                NaN   \n",
      "21  ...  We offer 3-way interpretation services over th...   \n",
      "22  ...                                                NaN   \n",
      "\n",
      "                                             keywords languages  \\\n",
      "18  HEALTH SERVICES, Outpatient Care, Community Cl...       NaN   \n",
      "19                                                NaN       NaN   \n",
      "20                                                NaN       NaN   \n",
      "21                                    Salud, Medicina   Spanish   \n",
      "22         Ruby on Rails/Postgres/Redis, testing, wic       NaN   \n",
      "\n",
      "                               name                        required_documents  \\\n",
      "18    San Mateo Free Medical Clinic                                       NaN   \n",
      "19        Service with blank fields                                       NaN   \n",
      "20  Service for Admin Test Location                                       NaN   \n",
      "21                  Passport Photos  Government-issued picture identification   \n",
      "22             Example Service Name                                       NaN   \n",
      "\n",
      "                       service_areas    status            wait_time  \\\n",
      "18               Belmont, Burlingame    active              Varies.   \n",
      "19                               NaN   defunct                  NaN   \n",
      "20                  San Mateo County  inactive                  NaN   \n",
      "21  Alameda County, San Mateo County    active  No wait to 2 weeks.   \n",
      "22  San Mateo County, Alameda County    active   No wait to 2 weeks   \n",
      "\n",
      "                   website                              taxonomy_ids  \n",
      "18                     NaN                                       NaN  \n",
      "19                     NaN                                       NaN  \n",
      "20                     NaN                                       NaN  \n",
      "21  http://www.example.com  105, 108, 108-05, 108-05-01, 111, 111-05  \n",
      "22  http://www.example.com                                       NaN  \n",
      "\n",
      "[5 rows x 22 columns]\n"
     ]
    }
   ],
   "source": [
    "df = pd.read_csv('services.csv')\n",
    "print(df.head(5))  # display the first 10 rows\n",
    "print(df.tail())"
   ]
  },
  {
   "cell_type": "markdown",
   "id": "765fa6ef-6af6-4871-b7a3-921e65467719",
   "metadata": {},
   "source": [
    "describe(): This function provides a summary of the statistical properties of each column in the DataFrame, such as the mean, standard deviation, and quartiles."
   ]
  },
  {
   "cell_type": "code",
   "execution_count": 31,
   "id": "93a8a043-b68f-4373-8f58-8c7c9794d7ee",
   "metadata": {},
   "outputs": [
    {
     "name": "stdout",
     "output_type": "stream",
     "text": [
      "             id  location_id  program_id\n",
      "count  23.00000    23.000000         0.0\n",
      "mean   12.00000    11.956522         NaN\n",
      "std     6.78233     6.711444         NaN\n",
      "min     1.00000     1.000000         NaN\n",
      "25%     6.50000     6.500000         NaN\n",
      "50%    12.00000    12.000000         NaN\n",
      "75%    17.50000    17.500000         NaN\n",
      "max    23.00000    22.000000         NaN\n"
     ]
    }
   ],
   "source": [
    "print(df.describe())  "
   ]
  },
  {
   "cell_type": "markdown",
   "id": "7a615c00-b327-437b-8660-264f6e9a911d",
   "metadata": {},
   "source": [
    "### Ques 6"
   ]
  },
  {
   "cell_type": "markdown",
   "id": "152420eb-5032-468a-b621-11b80b071fb0",
   "metadata": {},
   "source": [
    "In the pandas library, both Series and DataFrame are mutable in nature, meaning that you can modify their contents after they have been created."
   ]
  },
  {
   "cell_type": "code",
   "execution_count": null,
   "id": "d5a4e9d9-fa7f-4e0f-acaa-f743ef093dbd",
   "metadata": {},
   "outputs": [],
   "source": []
  }
 ],
 "metadata": {
  "kernelspec": {
   "display_name": "Python 3 (ipykernel)",
   "language": "python",
   "name": "python3"
  },
  "language_info": {
   "codemirror_mode": {
    "name": "ipython",
    "version": 3
   },
   "file_extension": ".py",
   "mimetype": "text/x-python",
   "name": "python",
   "nbconvert_exporter": "python",
   "pygments_lexer": "ipython3",
   "version": "3.10.8"
  }
 },
 "nbformat": 4,
 "nbformat_minor": 5
}
