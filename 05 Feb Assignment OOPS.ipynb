{
 "cells": [
  {
   "cell_type": "markdown",
   "id": "ee5d3b72-a736-4a9c-b578-d8ebd21d5a3d",
   "metadata": {},
   "source": [
    "# OOPS Assignment\n",
    "\n",
    "\n"
   ]
  },
  {
   "cell_type": "markdown",
   "id": "b29a17a0-b97a-4833-8111-14a5c55d88b3",
   "metadata": {},
   "source": [
    "## Ques 1\n",
    "\n",
    "OOPS - Object oriented programming. Here we have a class that resembles real word entity like vehicles and cars , trucks , bikes are its object or instanc. Its formal defination is \n",
    "\n",
    "CLASSEES provide a means of bundling data and functionality together. Creating a new class creates a new type of object, allowing new instances of that type to be made. Each class instance can have attributes attached to it for maintaining its state. Class instances can also have methods (defined by its class) for modifying its state.\n",
    "\n",
    "OBJECTS - An Object is an instance of a Class. A class is like a blueprint while an instance is a copy of the class with actual values.\n"
   ]
  },
  {
   "cell_type": "code",
   "execution_count": 9,
   "id": "910446cd-3ed6-4066-914f-e9f3450d6c6c",
   "metadata": {},
   "outputs": [],
   "source": [
    "class parth:\n",
    "    def msg(self,name):\n",
    "        print(\"Hello\" ,name, \". How are you? \")\n",
    "        "
   ]
  },
  {
   "cell_type": "code",
   "execution_count": 10,
   "id": "ce6254d6-aa17-479b-9ac9-9d5b8fc5212d",
   "metadata": {},
   "outputs": [
    {
     "name": "stdout",
     "output_type": "stream",
     "text": [
      "Hello parth . How are you? \n"
     ]
    }
   ],
   "source": [
    "obj1 = parth()\n",
    "obj1.msg(\"parth\")"
   ]
  },
  {
   "cell_type": "markdown",
   "id": "6234bd89-edf6-49b2-b2d5-8c9cfcd9e750",
   "metadata": {},
   "source": [
    "## Ques 2\n",
    "The four pillars of OOPs are\n",
    "-> Inheritance\n",
    "-> Polymorphism\n",
    "-> Abstraction\n",
    "-> Encapsulation\n"
   ]
  },
  {
   "cell_type": "markdown",
   "id": "675e9d1f-7ca4-4c28-ae1b-14e3aedd8015",
   "metadata": {},
   "source": [
    "## Ques 3\n",
    "\n",
    "The Default __init__ Constructor in C++ and Java. Constructors are used to initializing the object’s state. The task of constructors is to initialize(assign values) to the data members of the class when an object of the class is created. It is run as soon as an object of a class is instantiated. The method is useful to do any initialization you want to do with your object."
   ]
  },
  {
   "cell_type": "code",
   "execution_count": 3,
   "id": "e8448d3f-24f6-4905-bd4c-670e5d9a0da5",
   "metadata": {},
   "outputs": [],
   "source": [
    "class parth:\n",
    "    def __init__(self,age):\n",
    "        self.age = age\n",
    "    def msg(self,name):\n",
    "        print(\"Hello\" ,name, \". How are you? your age is\",self.age)\n",
    "        "
   ]
  },
  {
   "cell_type": "code",
   "execution_count": 4,
   "id": "ed2a9b49-58df-449c-9b00-02ab39005b68",
   "metadata": {},
   "outputs": [
    {
     "name": "stdout",
     "output_type": "stream",
     "text": [
      "Hello Parth . How are you? your age is 10\n"
     ]
    }
   ],
   "source": [
    "obj1 = parth(10)\n",
    "obj1.msg(\"Parth\")"
   ]
  },
  {
   "cell_type": "markdown",
   "id": "163d423f-f7bc-4ef2-8fc1-4990247dc539",
   "metadata": {},
   "source": [
    "## Ques 4\n",
    "\n",
    "self represents the instance of the class. By using the “self”  we can access the attributes and methods of the class in python. It binds the attributes with the given arguments.\n",
    "Self is always pointing to Current Object.\n",
    "Self is a convention and not a Python keyword .\n",
    "\n",
    "\n"
   ]
  },
  {
   "cell_type": "markdown",
   "id": "d0f1f38b-7bb8-4cf8-bf22-f29a47a8515c",
   "metadata": {},
   "source": [
    "## Ques 5\n",
    "\n",
    "Inheritance :- It is a mechanism that allows you to create a hierarchy of classes that share a set of properties and methods by deriving a class from another class. Inheritance is the capability of one class to derive or inherit the properties from another class. \n",
    "\n",
    "Types of Inheritance :- Single level, multilevel, hybrid, multiple, hierarchical "
   ]
  },
  {
   "cell_type": "code",
   "execution_count": null,
   "id": "ebee63dc-4774-4027-8a5f-459e133b3807",
   "metadata": {},
   "outputs": [],
   "source": []
  }
 ],
 "metadata": {
  "kernelspec": {
   "display_name": "Python 3 (ipykernel)",
   "language": "python",
   "name": "python3"
  },
  "language_info": {
   "codemirror_mode": {
    "name": "ipython",
    "version": 3
   },
   "file_extension": ".py",
   "mimetype": "text/x-python",
   "name": "python",
   "nbconvert_exporter": "python",
   "pygments_lexer": "ipython3",
   "version": "3.10.8"
  }
 },
 "nbformat": 4,
 "nbformat_minor": 5
}
