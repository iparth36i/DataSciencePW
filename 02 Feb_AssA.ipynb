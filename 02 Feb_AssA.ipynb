{
 "cells": [
  {
   "cell_type": "markdown",
   "id": "453b1f4b-9733-404c-a70b-367538889fe1",
   "metadata": {},
   "source": [
    "# Tuple, Set & Dict Assignment"
   ]
  },
  {
   "cell_type": "markdown",
   "id": "b8e90da4-a956-49a3-b646-e65a40806073",
   "metadata": {},
   "source": [
    "## Ques 1"
   ]
  },
  {
   "cell_type": "markdown",
   "id": "425b9662-7cd1-4a44-b8a7-7e927c7685b6",
   "metadata": {},
   "source": [
    "##### Tuple items are ordered, unchangeable, and allow duplicate values. Tuple items are indexed, the first item has index [0], the second item has index [1] etc."
   ]
  },
  {
   "cell_type": "markdown",
   "id": "6fcf1229-1ac5-448f-8a30-f45de2198e73",
   "metadata": {},
   "source": [
    "##### Yes, Tuple are immutable"
   ]
  },
  {
   "cell_type": "markdown",
   "id": "b59a7dbf-7aff-45d2-8d23-6ef179aa9ae5",
   "metadata": {},
   "source": [
    "## Ques 2"
   ]
  },
  {
   "cell_type": "code",
   "execution_count": 9,
   "id": "0db3e694-8375-475e-91ea-b6d1cbbb5c43",
   "metadata": {},
   "outputs": [],
   "source": [
    "t = (1,2,3,2,2,2,4)"
   ]
  },
  {
   "cell_type": "code",
   "execution_count": 10,
   "id": "724d99fd-f21b-4678-84b4-659ec0df93f0",
   "metadata": {},
   "outputs": [
    {
     "data": {
      "text/plain": [
       "4"
      ]
     },
     "execution_count": 10,
     "metadata": {},
     "output_type": "execute_result"
    }
   ],
   "source": [
    "# method 1\n",
    "t.count(2)"
   ]
  },
  {
   "cell_type": "code",
   "execution_count": 11,
   "id": "0438539c-c3a2-408e-acd9-76c2272ca3e6",
   "metadata": {},
   "outputs": [
    {
     "data": {
      "text/plain": [
       "1"
      ]
     },
     "execution_count": 11,
     "metadata": {},
     "output_type": "execute_result"
    }
   ],
   "source": [
    "t.index(2)"
   ]
  },
  {
   "cell_type": "markdown",
   "id": "0a0cf381-6df9-4c7c-9dd4-f4495183d0b7",
   "metadata": {},
   "source": [
    "##### As tuples are immputable so it has only two methods"
   ]
  },
  {
   "cell_type": "markdown",
   "id": "d42621da-c7f9-43a8-9ca4-1ef011f17f5a",
   "metadata": {},
   "source": [
    "## Ques 3"
   ]
  },
  {
   "cell_type": "markdown",
   "id": "344bd55a-8a1a-404e-a136-bbdf8c7cf108",
   "metadata": {},
   "source": [
    "##### Set Does Not allow to repeat elements"
   ]
  },
  {
   "cell_type": "code",
   "execution_count": 35,
   "id": "14b53f3d-d98d-4d6e-94ae-fc999735f5ae",
   "metadata": {},
   "outputs": [
    {
     "data": {
      "text/plain": [
       "{1, 2, 3, 4}"
      ]
     },
     "execution_count": 35,
     "metadata": {},
     "output_type": "execute_result"
    }
   ],
   "source": [
    "List = [1, 1, 1, 2, 1, 3, 1, 4, 2, 1, 2, 2, 2, 3, 2, 4, 3, 1, 3, 2, 3, 3, 3, 4, 4, 1, 4, 2, 4, 3, 4, 4]\n",
    "s = set(List)\n",
    "type(s)\n",
    "s"
   ]
  },
  {
   "cell_type": "code",
   "execution_count": 36,
   "id": "d92617bf-7039-44cf-b0d8-a7ce76de4b26",
   "metadata": {},
   "outputs": [
    {
     "data": {
      "text/plain": [
       "set"
      ]
     },
     "execution_count": 36,
     "metadata": {},
     "output_type": "execute_result"
    }
   ],
   "source": [
    "type(s)"
   ]
  },
  {
   "cell_type": "markdown",
   "id": "e7f4b9ac-9638-4933-a703-6fd3646f3733",
   "metadata": {},
   "source": [
    "## Ques 4"
   ]
  },
  {
   "cell_type": "markdown",
   "id": "c83129fd-e7c6-4b31-9d69-d5ae46b877e5",
   "metadata": {},
   "source": [
    "##### UNION  -> It is used to create a new set on unique elements using two different set\n",
    "##### UPDATE -> It is used to update a set and change set on which it is called it add the element of other set those are not present in that set"
   ]
  },
  {
   "cell_type": "code",
   "execution_count": 27,
   "id": "fab23cda-8e05-43a5-9769-9b4b9df0d652",
   "metadata": {},
   "outputs": [
    {
     "name": "stdout",
     "output_type": "stream",
     "text": [
      "{'banana', 'cherry', 'google', 'microsoft', 'apple'}\n"
     ]
    }
   ],
   "source": [
    "x = {\"apple\", \"banana\", \"cherry\"}\n",
    "y = {\"google\", \"microsoft\", \"apple\"}\n",
    "z = x.union(y)\n",
    "print(z)"
   ]
  },
  {
   "cell_type": "code",
   "execution_count": 28,
   "id": "68c25f5f-8aac-4a0e-af6e-d30a971e10ae",
   "metadata": {},
   "outputs": [
    {
     "name": "stdout",
     "output_type": "stream",
     "text": [
      "{'banana', 'cherry', 'google', 'microsoft', 'apple'}\n"
     ]
    }
   ],
   "source": [
    "x = {\"apple\", \"banana\", \"cherry\"}\n",
    "y = {\"google\", \"microsoft\", \"apple\"}\n",
    "x.update(y)\n",
    "print(x)"
   ]
  },
  {
   "cell_type": "markdown",
   "id": "0e52d41d-e860-46fe-bdf5-cbea4059f763",
   "metadata": {},
   "source": [
    "## Ques 5"
   ]
  },
  {
   "cell_type": "markdown",
   "id": "812b330e-0a7c-4153-907f-3d898c3c0d8e",
   "metadata": {},
   "source": [
    "Dictionaries are used to store data values in key:value pairs.\n",
    "A dictionary is a collection which is ordered*, changeable and do not allow duplicates."
   ]
  },
  {
   "cell_type": "code",
   "execution_count": 34,
   "id": "7a9cc47b-3bf6-439e-b7fa-d44d82a50d0a",
   "metadata": {},
   "outputs": [
    {
     "data": {
      "text/plain": [
       "dict"
      ]
     },
     "execution_count": 34,
     "metadata": {},
     "output_type": "execute_result"
    }
   ],
   "source": [
    "d = {1:\"Parth\" , 2:{1:\"hello\"},3:(1,2,3)}\n",
    "type(d)"
   ]
  },
  {
   "cell_type": "markdown",
   "id": "d8469bd1-04d2-4863-8153-cca56e2527a7",
   "metadata": {},
   "source": [
    "## Ques 6"
   ]
  },
  {
   "cell_type": "markdown",
   "id": "0274b781-06dd-41db-9302-187aaaaf6711",
   "metadata": {},
   "source": [
    "Yes, we can create a nested dictionary"
   ]
  },
  {
   "cell_type": "code",
   "execution_count": 32,
   "id": "c9500f2b-e5ba-408d-96bf-8b0b7b515a2f",
   "metadata": {},
   "outputs": [
    {
     "data": {
      "text/plain": [
       "'how are you'"
      ]
     },
     "execution_count": 32,
     "metadata": {},
     "output_type": "execute_result"
    }
   ],
   "source": [
    "d = {1:\"Hello\",2:{1:\"how are you\"}}\n",
    "d[2][1]"
   ]
  },
  {
   "cell_type": "markdown",
   "id": "2244730c-cbd1-4976-9b00-e514478b001d",
   "metadata": {},
   "source": [
    "## Ques 7"
   ]
  },
  {
   "cell_type": "code",
   "execution_count": 31,
   "id": "ab6e2580-bebc-4a9a-881e-9a73ad3e377d",
   "metadata": {},
   "outputs": [
    {
     "name": "stdout",
     "output_type": "stream",
     "text": [
      "{'language': 'Python', 'course': 'Data Science Masters', 'topics': ['Python', 'Machine Learning', 'Deep Learning']}\n"
     ]
    }
   ],
   "source": [
    "dict1 = {'language' : 'Python', 'course': 'Data Science Masters'}\n",
    "l = [\"Python\", \"Machine Learning\", \"Deep Learning\"]\n",
    "dict1.setdefault(\"topics\",l)\n",
    "print(dict1)"
   ]
  },
  {
   "cell_type": "markdown",
   "id": "352e8bcc-2c4f-4104-b74e-675fa8a67585",
   "metadata": {},
   "source": [
    "## Ques 8"
   ]
  },
  {
   "cell_type": "markdown",
   "id": "511331e4-8fab-43fa-8b68-fb5dbdabe22e",
   "metadata": {},
   "source": [
    "Three view objects are key value and item. They provide a non-constant view of the dictionary’s entries. Keys holds all the keys of the dictionary, the values objects holds all the values, whereas the items holds the key-value pairs."
   ]
  },
  {
   "cell_type": "code",
   "execution_count": 37,
   "id": "3148d6dd-9fff-4621-b8b3-830027a9b873",
   "metadata": {},
   "outputs": [],
   "source": [
    "dict1 = {'Sport': 'Cricket' , 'Teams': ['India', 'Australia', 'England', 'South Africa', 'Sri Lanka', 'New Zealand']}"
   ]
  },
  {
   "cell_type": "code",
   "execution_count": 38,
   "id": "b22e089e-24bd-40f2-9d95-09ba42826a9f",
   "metadata": {},
   "outputs": [
    {
     "name": "stdout",
     "output_type": "stream",
     "text": [
      "dict_keys(['Sport', 'Teams'])\n",
      "<class 'dict_keys'>\n"
     ]
    }
   ],
   "source": [
    "# key\n",
    "key = dict1.keys()\n",
    "print(key)\n",
    "print(type(key))"
   ]
  },
  {
   "cell_type": "code",
   "execution_count": 39,
   "id": "1f4e66d8-e324-448c-a0a1-341a73799b15",
   "metadata": {},
   "outputs": [
    {
     "name": "stdout",
     "output_type": "stream",
     "text": [
      "dict_values(['Cricket', ['India', 'Australia', 'England', 'South Africa', 'Sri Lanka', 'New Zealand']])\n",
      "<class 'dict_values'>\n"
     ]
    }
   ],
   "source": [
    "# value\n",
    "val = dict1.values()\n",
    "print(val)\n",
    "print(type(val))"
   ]
  },
  {
   "cell_type": "code",
   "execution_count": 40,
   "id": "13c868a9-4229-45e1-9756-daf12147bbfb",
   "metadata": {},
   "outputs": [
    {
     "name": "stdout",
     "output_type": "stream",
     "text": [
      "dict_items([('Sport', 'Cricket'), ('Teams', ['India', 'Australia', 'England', 'South Africa', 'Sri Lanka', 'New Zealand'])])\n",
      "<class 'dict_items'>\n"
     ]
    }
   ],
   "source": [
    "# items \n",
    "item = dict1.items()\n",
    "print(item)\n",
    "print(type(item))"
   ]
  },
  {
   "cell_type": "code",
   "execution_count": null,
   "id": "8b119c41-7b5c-4024-8474-27dd15af4011",
   "metadata": {},
   "outputs": [],
   "source": []
  }
 ],
 "metadata": {
  "kernelspec": {
   "display_name": "Python 3 (ipykernel)",
   "language": "python",
   "name": "python3"
  },
  "language_info": {
   "codemirror_mode": {
    "name": "ipython",
    "version": 3
   },
   "file_extension": ".py",
   "mimetype": "text/x-python",
   "name": "python",
   "nbconvert_exporter": "python",
   "pygments_lexer": "ipython3",
   "version": "3.10.8"
  }
 },
 "nbformat": 4,
 "nbformat_minor": 5
}
