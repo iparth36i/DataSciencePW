{
 "cells": [
  {
   "cell_type": "markdown",
   "id": "f55e3cf8-e86d-43ae-a844-177b7edce1cf",
   "metadata": {},
   "source": [
    "# lambda, map, reduce filter Assignment"
   ]
  },
  {
   "cell_type": "markdown",
   "id": "12eb93c7-6ab8-4b22-a4fc-02ca24b01723",
   "metadata": {},
   "source": [
    "## Ques 1"
   ]
  },
  {
   "cell_type": "code",
   "execution_count": 1,
   "id": "08d4203d-5706-46b6-a552-a81bf5da829a",
   "metadata": {},
   "outputs": [
    {
     "data": {
      "text/plain": [
       "[('Sachin Tendulkar', 34357),\n",
       " ('Ricky Ponting', 27483),\n",
       " ('Jack Kallis', 25534),\n",
       " ('Virat Kohli', 24936)]"
      ]
     },
     "execution_count": 1,
     "metadata": {},
     "output_type": "execute_result"
    }
   ],
   "source": [
    "l = [('Sachin Tendulkar', 34357), ('Ricky Ponting', 27483), ('Jack Kallis', 25534), ('Virat Kohli', 24936)]\n"
   ]
  },
  {
   "cell_type": "markdown",
   "id": "10bb4f7c-c7ed-4601-bf1c-1a590a189fbe",
   "metadata": {},
   "source": [
    "## Ques 2\n"
   ]
  },
  {
   "cell_type": "code",
   "execution_count": 6,
   "id": "04926930-5f17-4f95-b368-a1051740341d",
   "metadata": {},
   "outputs": [
    {
     "name": "stdout",
     "output_type": "stream",
     "text": [
      "[1, 4, 9, 16, 25, 36, 49, 64, 81, 100]\n"
     ]
    }
   ],
   "source": [
    "l = [1, 2, 3, 4, 5, 6, 7, 8, 9, 10]\n",
    "l = list(map(lambda x:x**2,l))\n",
    "print(l)"
   ]
  },
  {
   "cell_type": "markdown",
   "id": "d0bdd123-30b1-489e-b53d-928bec8f73e6",
   "metadata": {},
   "source": [
    "## Ques 3"
   ]
  },
  {
   "cell_type": "code",
   "execution_count": 9,
   "id": "d805485b-22d3-48b7-a318-e9773c1dc75e",
   "metadata": {},
   "outputs": [
    {
     "name": "stdout",
     "output_type": "stream",
     "text": [
      "('1', '2', '3', '4', '5', '6', '7', '8', '9', '10')\n"
     ]
    }
   ],
   "source": [
    "l = [1, 2, 3, 4, 5, 6, 7, 8, 9, 10]\n",
    "l = tuple(map(lambda x:str(x),l))\n",
    "print(l)"
   ]
  },
  {
   "cell_type": "markdown",
   "id": "78b3a35a-0dc9-415a-a234-8fda5ef9ac2f",
   "metadata": {},
   "source": [
    "## Ques 4"
   ]
  },
  {
   "cell_type": "code",
   "execution_count": 13,
   "id": "e913f4f9-def1-4b5d-b4b5-013e30ce671d",
   "metadata": {},
   "outputs": [
    {
     "name": "stdout",
     "output_type": "stream",
     "text": [
      "15511210043330985984000000\n"
     ]
    }
   ],
   "source": [
    "from functools import reduce\n",
    "l = list(i for i in range(1,26))\n",
    "print(reduce(lambda x,y:x*y,l))"
   ]
  },
  {
   "cell_type": "markdown",
   "id": "78f894f4-15c9-4bc3-84aa-7b2f446d37e8",
   "metadata": {},
   "source": [
    "## Ques 5"
   ]
  },
  {
   "cell_type": "code",
   "execution_count": 20,
   "id": "980c1ce5-bc76-426d-9f3e-bbdda989d671",
   "metadata": {},
   "outputs": [
    {
     "name": "stdout",
     "output_type": "stream",
     "text": [
      "[6, 60, 90, 120]\n"
     ]
    }
   ],
   "source": [
    "l = [2, 3, 6, 9, 27, 60, 90, 120, 55, 46]\n",
    "l = list(filter(lambda x: x % 2 == 0 and x % 3 ==0 ,l))\n",
    "print(l)"
   ]
  },
  {
   "cell_type": "markdown",
   "id": "28b45413-ce6c-454b-bdcb-b2dd5f70b724",
   "metadata": {},
   "source": [
    "## Ques 6"
   ]
  },
  {
   "cell_type": "code",
   "execution_count": 23,
   "id": "12dda944-e5ce-4e8a-9898-5886b5e4090c",
   "metadata": {},
   "outputs": [
    {
     "name": "stdout",
     "output_type": "stream",
     "text": [
      "['php', 'aba', 'radar', 'level']\n"
     ]
    }
   ],
   "source": [
    "l = ['python', 'php', 'aba', 'radar', 'level']\n",
    "l = list(filter(lambda x: x == x[::-1],l))\n",
    "print(l)"
   ]
  }
 ],
 "metadata": {
  "kernelspec": {
   "display_name": "Python 3 (ipykernel)",
   "language": "python",
   "name": "python3"
  },
  "language_info": {
   "codemirror_mode": {
    "name": "ipython",
    "version": 3
   },
   "file_extension": ".py",
   "mimetype": "text/x-python",
   "name": "python",
   "nbconvert_exporter": "python",
   "pygments_lexer": "ipython3",
   "version": "3.10.8"
  }
 },
 "nbformat": 4,
 "nbformat_minor": 5
}
